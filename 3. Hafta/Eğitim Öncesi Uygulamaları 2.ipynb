{
 "cells": [
  {
   "cell_type": "code",
   "execution_count": 1,
   "metadata": {},
   "outputs": [
    {
     "name": "stdout",
     "output_type": "stream",
     "text": [
      "If bloğu çalıştı\n",
      "Program sonlandı\n"
     ]
    }
   ],
   "source": [
    "if 3 > 1:\n",
    "    print(\"If bloğu çalıştı\")\n",
    "print(\"Program sonlandı\")"
   ]
  },
  {
   "cell_type": "code",
   "execution_count": 4,
   "metadata": {},
   "outputs": [
    {
     "ename": "ValueError",
     "evalue": "invalid literal for int() with base 10: ''",
     "output_type": "error",
     "traceback": [
      "\u001b[0;31m---------------------------------------------------------------------------\u001b[0m",
      "\u001b[0;31mValueError\u001b[0m                                Traceback (most recent call last)",
      "Cell \u001b[0;32mIn[4], line 1\u001b[0m\n\u001b[0;32m----> 1\u001b[0m sayi1 \u001b[39m=\u001b[39m \u001b[39mint\u001b[39;49m(\u001b[39minput\u001b[39;49m(\u001b[39m\"\u001b[39;49m\u001b[39m1.sayıyı giriniz : \u001b[39;49m\u001b[39m\"\u001b[39;49m))\n\u001b[1;32m      2\u001b[0m sayi2 \u001b[39m=\u001b[39m \u001b[39mint\u001b[39m(\u001b[39minput\u001b[39m(\u001b[39m\"\u001b[39m\u001b[39m2.sayıyı giriniz : \u001b[39m\u001b[39m\"\u001b[39m))\n\u001b[1;32m      3\u001b[0m \u001b[39mif\u001b[39;00m sayi1 \u001b[39m>\u001b[39m sayi2:\n",
      "\u001b[0;31mValueError\u001b[0m: invalid literal for int() with base 10: ''"
     ]
    }
   ],
   "source": [
    "sayi1 = int(input(\"1.sayıyı giriniz : \"))\n",
    "sayi2 = int(input(\"2.sayıyı giriniz : \"))\n",
    "if sayi1 > sayi2:\n",
    "    print(\"1. sayı, 2. sayıdan büyüktür.\")\n",
    "elif sayi1 == sayi2:\n",
    "    print(\"Sayılar birbirine eşittir.\")\n",
    "elif sayi1 < sayi2:\n",
    "    print(\"2.sayı, 1.sayıdan büyüktür\")"
   ]
  },
  {
   "cell_type": "code",
   "execution_count": null,
   "metadata": {},
   "outputs": [],
   "source": [
    "superKahraman = input(\"Bir süper kahraman giriniz : \")\n",
    "if superKahraman == \"Batman\":\n",
    "    print(\"Batman'i seçtiniz\")\n",
    "elif superKahraman == \"Superman\":\n",
    "    print(\"Superman'i seçtiniz\")\n",
    "elif superKahraman == \"Iranman\":\n",
    "    print(\"Ironman'i seçtiniz\")\n",
    "else:\n",
    "    print(\"Bizde böyle bir süper kahraman bulunmamaktadır.\")"
   ]
  },
  {
   "cell_type": "code",
   "execution_count": null,
   "metadata": {},
   "outputs": [],
   "source": []
  }
 ],
 "metadata": {
  "kernelspec": {
   "display_name": "Python 3",
   "language": "python",
   "name": "python3"
  },
  "language_info": {
   "codemirror_mode": {
    "name": "ipython",
    "version": 3
   },
   "file_extension": ".py",
   "mimetype": "text/x-python",
   "name": "python",
   "nbconvert_exporter": "python",
   "pygments_lexer": "ipython3",
   "version": "3.11.1"
  },
  "orig_nbformat": 4,
  "vscode": {
   "interpreter": {
    "hash": "aee8b7b246df8f9039afb4144a1f6fd8d2ca17a180786b69acc140d282b71a49"
   }
  }
 },
 "nbformat": 4,
 "nbformat_minor": 2
}
